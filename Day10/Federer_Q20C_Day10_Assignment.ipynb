{
 "cells": [
  {
   "cell_type": "code",
   "execution_count": 29,
   "id": "af641af3-c60b-41ce-bede-d5cb99b9f24d",
   "metadata": {},
   "outputs": [],
   "source": [
    "import pandas as pd\n",
    "import matplotlib.pyplot as plt\n"
   ]
  },
  {
   "cell_type": "code",
   "execution_count": 30,
   "id": "2afcf237-4aea-415e-8218-5e68e401531a",
   "metadata": {},
   "outputs": [],
   "source": [
    "file = r\"Downloads/handson/code/data/federer.csv\"\n",
    "f = pd.read_csv(file)"
   ]
  },
  {
   "cell_type": "code",
   "execution_count": 31,
   "id": "e9f8694e-d1e0-4f4f-9f02-387a9dca5765",
   "metadata": {},
   "outputs": [
    {
     "data": {
      "text/html": [
       "<div>\n",
       "<style scoped>\n",
       "    .dataframe tbody tr th:only-of-type {\n",
       "        vertical-align: middle;\n",
       "    }\n",
       "\n",
       "    .dataframe tbody tr th {\n",
       "        vertical-align: top;\n",
       "    }\n",
       "\n",
       "    .dataframe thead th {\n",
       "        text-align: right;\n",
       "    }\n",
       "</style>\n",
       "<table border=\"1\" class=\"dataframe\">\n",
       "  <thead>\n",
       "    <tr style=\"text-align: right;\">\n",
       "      <th></th>\n",
       "      <th>year</th>\n",
       "      <th>tournament</th>\n",
       "      <th>start date</th>\n",
       "      <th>type</th>\n",
       "      <th>surface</th>\n",
       "      <th>draw</th>\n",
       "      <th>atp points</th>\n",
       "      <th>atp ranking</th>\n",
       "      <th>tournament prize money</th>\n",
       "      <th>round</th>\n",
       "      <th>...</th>\n",
       "      <th>player2 2nd serve return points total</th>\n",
       "      <th>player2 break points converted won</th>\n",
       "      <th>player2 break points converted total</th>\n",
       "      <th>player2 return games played</th>\n",
       "      <th>player2 total service points won</th>\n",
       "      <th>player2 total service points total</th>\n",
       "      <th>player2 total return points won</th>\n",
       "      <th>player2 total return points total</th>\n",
       "      <th>player2 total points won</th>\n",
       "      <th>player2 total points total</th>\n",
       "    </tr>\n",
       "  </thead>\n",
       "  <tbody>\n",
       "    <tr>\n",
       "      <th>0</th>\n",
       "      <td>1998</td>\n",
       "      <td>Basel, Switzerland</td>\n",
       "      <td>05.10.1998</td>\n",
       "      <td>WS</td>\n",
       "      <td>Indoor: Hard</td>\n",
       "      <td>Draw: 32</td>\n",
       "      <td>1</td>\n",
       "      <td>396.0</td>\n",
       "      <td>$9,800</td>\n",
       "      <td>R32</td>\n",
       "      <td>...</td>\n",
       "      <td>22.0</td>\n",
       "      <td>4.0</td>\n",
       "      <td>8.0</td>\n",
       "      <td>8.0</td>\n",
       "      <td>36.0</td>\n",
       "      <td>50.0</td>\n",
       "      <td>26.0</td>\n",
       "      <td>53.0</td>\n",
       "      <td>62.0</td>\n",
       "      <td>103.0</td>\n",
       "    </tr>\n",
       "    <tr>\n",
       "      <th>1</th>\n",
       "      <td>1998</td>\n",
       "      <td>Toulouse, France</td>\n",
       "      <td>28.09.1998</td>\n",
       "      <td>WS</td>\n",
       "      <td>Indoor: Hard</td>\n",
       "      <td>Draw: 32</td>\n",
       "      <td>59</td>\n",
       "      <td>878.0</td>\n",
       "      <td>$10,800</td>\n",
       "      <td>R32</td>\n",
       "      <td>...</td>\n",
       "      <td>19.0</td>\n",
       "      <td>0.0</td>\n",
       "      <td>1.0</td>\n",
       "      <td>8.0</td>\n",
       "      <td>33.0</td>\n",
       "      <td>65.0</td>\n",
       "      <td>8.0</td>\n",
       "      <td>41.0</td>\n",
       "      <td>41.0</td>\n",
       "      <td>106.0</td>\n",
       "    </tr>\n",
       "    <tr>\n",
       "      <th>2</th>\n",
       "      <td>1998</td>\n",
       "      <td>Toulouse, France</td>\n",
       "      <td>28.09.1998</td>\n",
       "      <td>WS</td>\n",
       "      <td>Indoor: Hard</td>\n",
       "      <td>Draw: 32</td>\n",
       "      <td>59</td>\n",
       "      <td>878.0</td>\n",
       "      <td>$10,800</td>\n",
       "      <td>R16</td>\n",
       "      <td>...</td>\n",
       "      <td>30.0</td>\n",
       "      <td>0.0</td>\n",
       "      <td>4.0</td>\n",
       "      <td>10.0</td>\n",
       "      <td>46.0</td>\n",
       "      <td>75.0</td>\n",
       "      <td>23.0</td>\n",
       "      <td>73.0</td>\n",
       "      <td>69.0</td>\n",
       "      <td>148.0</td>\n",
       "    </tr>\n",
       "    <tr>\n",
       "      <th>3</th>\n",
       "      <td>1998</td>\n",
       "      <td>Toulouse, France</td>\n",
       "      <td>28.09.1998</td>\n",
       "      <td>WS</td>\n",
       "      <td>Indoor: Hard</td>\n",
       "      <td>Draw: 32</td>\n",
       "      <td>59</td>\n",
       "      <td>878.0</td>\n",
       "      <td>$10,800</td>\n",
       "      <td>Q</td>\n",
       "      <td>...</td>\n",
       "      <td>28.0</td>\n",
       "      <td>3.0</td>\n",
       "      <td>10.0</td>\n",
       "      <td>10.0</td>\n",
       "      <td>44.0</td>\n",
       "      <td>63.0</td>\n",
       "      <td>26.0</td>\n",
       "      <td>67.0</td>\n",
       "      <td>70.0</td>\n",
       "      <td>130.0</td>\n",
       "    </tr>\n",
       "    <tr>\n",
       "      <th>4</th>\n",
       "      <td>1998</td>\n",
       "      <td>Geneva, Switzerland</td>\n",
       "      <td>24.08.1998</td>\n",
       "      <td>CH</td>\n",
       "      <td>Outdoor: Clay</td>\n",
       "      <td>Draw: 32</td>\n",
       "      <td>1</td>\n",
       "      <td>680.0</td>\n",
       "      <td>$520</td>\n",
       "      <td>R32</td>\n",
       "      <td>...</td>\n",
       "      <td>NaN</td>\n",
       "      <td>NaN</td>\n",
       "      <td>NaN</td>\n",
       "      <td>NaN</td>\n",
       "      <td>NaN</td>\n",
       "      <td>NaN</td>\n",
       "      <td>NaN</td>\n",
       "      <td>NaN</td>\n",
       "      <td>NaN</td>\n",
       "      <td>NaN</td>\n",
       "    </tr>\n",
       "    <tr>\n",
       "      <th>...</th>\n",
       "      <td>...</td>\n",
       "      <td>...</td>\n",
       "      <td>...</td>\n",
       "      <td>...</td>\n",
       "      <td>...</td>\n",
       "      <td>...</td>\n",
       "      <td>...</td>\n",
       "      <td>...</td>\n",
       "      <td>...</td>\n",
       "      <td>...</td>\n",
       "      <td>...</td>\n",
       "      <td>...</td>\n",
       "      <td>...</td>\n",
       "      <td>...</td>\n",
       "      <td>...</td>\n",
       "      <td>...</td>\n",
       "      <td>...</td>\n",
       "      <td>...</td>\n",
       "      <td>...</td>\n",
       "      <td>...</td>\n",
       "      <td>...</td>\n",
       "    </tr>\n",
       "    <tr>\n",
       "      <th>1174</th>\n",
       "      <td>2012</td>\n",
       "      <td>Australian Open, Australia</td>\n",
       "      <td>16.01.2012</td>\n",
       "      <td>GS</td>\n",
       "      <td>Outdoor: Hard</td>\n",
       "      <td>Draw: 128</td>\n",
       "      <td>720</td>\n",
       "      <td>3.0</td>\n",
       "      <td>A$437,000</td>\n",
       "      <td>S</td>\n",
       "      <td>...</td>\n",
       "      <td>49.0</td>\n",
       "      <td>6.0</td>\n",
       "      <td>16.0</td>\n",
       "      <td>21.0</td>\n",
       "      <td>95.0</td>\n",
       "      <td>141.0</td>\n",
       "      <td>51.0</td>\n",
       "      <td>135.0</td>\n",
       "      <td>146.0</td>\n",
       "      <td>276.0</td>\n",
       "    </tr>\n",
       "    <tr>\n",
       "      <th>1175</th>\n",
       "      <td>2012</td>\n",
       "      <td>Doha, Qatar</td>\n",
       "      <td>02.01.2012</td>\n",
       "      <td>250</td>\n",
       "      <td>Outdoor: Hard</td>\n",
       "      <td>Draw: 32</td>\n",
       "      <td>90</td>\n",
       "      <td>3.0</td>\n",
       "      <td>$50,030</td>\n",
       "      <td>R32</td>\n",
       "      <td>...</td>\n",
       "      <td>6.0</td>\n",
       "      <td>0.0</td>\n",
       "      <td>0.0</td>\n",
       "      <td>8.0</td>\n",
       "      <td>22.0</td>\n",
       "      <td>45.0</td>\n",
       "      <td>9.0</td>\n",
       "      <td>41.0</td>\n",
       "      <td>31.0</td>\n",
       "      <td>86.0</td>\n",
       "    </tr>\n",
       "    <tr>\n",
       "      <th>1176</th>\n",
       "      <td>2012</td>\n",
       "      <td>Doha, Qatar</td>\n",
       "      <td>02.01.2012</td>\n",
       "      <td>250</td>\n",
       "      <td>Outdoor: Hard</td>\n",
       "      <td>Draw: 32</td>\n",
       "      <td>90</td>\n",
       "      <td>3.0</td>\n",
       "      <td>$50,030</td>\n",
       "      <td>R16</td>\n",
       "      <td>...</td>\n",
       "      <td>17.0</td>\n",
       "      <td>0.0</td>\n",
       "      <td>2.0</td>\n",
       "      <td>9.0</td>\n",
       "      <td>28.0</td>\n",
       "      <td>50.0</td>\n",
       "      <td>11.0</td>\n",
       "      <td>49.0</td>\n",
       "      <td>39.0</td>\n",
       "      <td>99.0</td>\n",
       "    </tr>\n",
       "    <tr>\n",
       "      <th>1177</th>\n",
       "      <td>2012</td>\n",
       "      <td>Doha, Qatar</td>\n",
       "      <td>02.01.2012</td>\n",
       "      <td>250</td>\n",
       "      <td>Outdoor: Hard</td>\n",
       "      <td>Draw: 32</td>\n",
       "      <td>90</td>\n",
       "      <td>3.0</td>\n",
       "      <td>$50,030</td>\n",
       "      <td>Q</td>\n",
       "      <td>...</td>\n",
       "      <td>29.0</td>\n",
       "      <td>4.0</td>\n",
       "      <td>9.0</td>\n",
       "      <td>16.0</td>\n",
       "      <td>47.0</td>\n",
       "      <td>78.0</td>\n",
       "      <td>34.0</td>\n",
       "      <td>95.0</td>\n",
       "      <td>81.0</td>\n",
       "      <td>173.0</td>\n",
       "    </tr>\n",
       "    <tr>\n",
       "      <th>1178</th>\n",
       "      <td>2012</td>\n",
       "      <td>Doha, Qatar</td>\n",
       "      <td>02.01.2012</td>\n",
       "      <td>250</td>\n",
       "      <td>Outdoor: Hard</td>\n",
       "      <td>Draw: 32</td>\n",
       "      <td>90</td>\n",
       "      <td>3.0</td>\n",
       "      <td>$50,030</td>\n",
       "      <td>S</td>\n",
       "      <td>...</td>\n",
       "      <td>NaN</td>\n",
       "      <td>NaN</td>\n",
       "      <td>NaN</td>\n",
       "      <td>NaN</td>\n",
       "      <td>NaN</td>\n",
       "      <td>NaN</td>\n",
       "      <td>NaN</td>\n",
       "      <td>NaN</td>\n",
       "      <td>NaN</td>\n",
       "      <td>NaN</td>\n",
       "    </tr>\n",
       "  </tbody>\n",
       "</table>\n",
       "<p>1179 rows × 70 columns</p>\n",
       "</div>"
      ],
      "text/plain": [
       "      year                  tournament  start date type        surface  \\\n",
       "0     1998          Basel, Switzerland  05.10.1998   WS   Indoor: Hard   \n",
       "1     1998            Toulouse, France  28.09.1998   WS   Indoor: Hard   \n",
       "2     1998            Toulouse, France  28.09.1998   WS   Indoor: Hard   \n",
       "3     1998            Toulouse, France  28.09.1998   WS   Indoor: Hard   \n",
       "4     1998         Geneva, Switzerland  24.08.1998   CH  Outdoor: Clay   \n",
       "...    ...                         ...         ...  ...            ...   \n",
       "1174  2012  Australian Open, Australia  16.01.2012   GS  Outdoor: Hard   \n",
       "1175  2012                 Doha, Qatar  02.01.2012  250  Outdoor: Hard   \n",
       "1176  2012                 Doha, Qatar  02.01.2012  250  Outdoor: Hard   \n",
       "1177  2012                 Doha, Qatar  02.01.2012  250  Outdoor: Hard   \n",
       "1178  2012                 Doha, Qatar  02.01.2012  250  Outdoor: Hard   \n",
       "\n",
       "           draw atp points  atp ranking tournament prize money round  ...  \\\n",
       "0      Draw: 32          1        396.0                 $9,800   R32  ...   \n",
       "1      Draw: 32         59        878.0                $10,800   R32  ...   \n",
       "2      Draw: 32         59        878.0                $10,800   R16  ...   \n",
       "3      Draw: 32         59        878.0                $10,800     Q  ...   \n",
       "4      Draw: 32          1        680.0                   $520   R32  ...   \n",
       "...         ...        ...          ...                    ...   ...  ...   \n",
       "1174  Draw: 128        720          3.0              A$437,000     S  ...   \n",
       "1175   Draw: 32         90          3.0                $50,030   R32  ...   \n",
       "1176   Draw: 32         90          3.0                $50,030   R16  ...   \n",
       "1177   Draw: 32         90          3.0                $50,030     Q  ...   \n",
       "1178   Draw: 32         90          3.0                $50,030     S  ...   \n",
       "\n",
       "     player2 2nd serve return points total player2 break points converted won  \\\n",
       "0                                     22.0                                4.0   \n",
       "1                                     19.0                                0.0   \n",
       "2                                     30.0                                0.0   \n",
       "3                                     28.0                                3.0   \n",
       "4                                      NaN                                NaN   \n",
       "...                                    ...                                ...   \n",
       "1174                                  49.0                                6.0   \n",
       "1175                                   6.0                                0.0   \n",
       "1176                                  17.0                                0.0   \n",
       "1177                                  29.0                                4.0   \n",
       "1178                                   NaN                                NaN   \n",
       "\n",
       "     player2 break points converted total player2 return games played  \\\n",
       "0                                     8.0                         8.0   \n",
       "1                                     1.0                         8.0   \n",
       "2                                     4.0                        10.0   \n",
       "3                                    10.0                        10.0   \n",
       "4                                     NaN                         NaN   \n",
       "...                                   ...                         ...   \n",
       "1174                                 16.0                        21.0   \n",
       "1175                                  0.0                         8.0   \n",
       "1176                                  2.0                         9.0   \n",
       "1177                                  9.0                        16.0   \n",
       "1178                                  NaN                         NaN   \n",
       "\n",
       "     player2 total service points won player2 total service points total  \\\n",
       "0                                36.0                               50.0   \n",
       "1                                33.0                               65.0   \n",
       "2                                46.0                               75.0   \n",
       "3                                44.0                               63.0   \n",
       "4                                 NaN                                NaN   \n",
       "...                               ...                                ...   \n",
       "1174                             95.0                              141.0   \n",
       "1175                             22.0                               45.0   \n",
       "1176                             28.0                               50.0   \n",
       "1177                             47.0                               78.0   \n",
       "1178                              NaN                                NaN   \n",
       "\n",
       "      player2 total return points won player2 total return points total  \\\n",
       "0                                26.0                              53.0   \n",
       "1                                 8.0                              41.0   \n",
       "2                                23.0                              73.0   \n",
       "3                                26.0                              67.0   \n",
       "4                                 NaN                               NaN   \n",
       "...                               ...                               ...   \n",
       "1174                             51.0                             135.0   \n",
       "1175                              9.0                              41.0   \n",
       "1176                             11.0                              49.0   \n",
       "1177                             34.0                              95.0   \n",
       "1178                              NaN                               NaN   \n",
       "\n",
       "     player2 total points won player2 total points total  \n",
       "0                        62.0                      103.0  \n",
       "1                        41.0                      106.0  \n",
       "2                        69.0                      148.0  \n",
       "3                        70.0                      130.0  \n",
       "4                         NaN                        NaN  \n",
       "...                       ...                        ...  \n",
       "1174                    146.0                      276.0  \n",
       "1175                     31.0                       86.0  \n",
       "1176                     39.0                       99.0  \n",
       "1177                     81.0                      173.0  \n",
       "1178                      NaN                        NaN  \n",
       "\n",
       "[1179 rows x 70 columns]"
      ]
     },
     "execution_count": 31,
     "metadata": {},
     "output_type": "execute_result"
    }
   ],
   "source": [
    "f"
   ]
  },
  {
   "cell_type": "code",
   "execution_count": 18,
   "id": "80237c34-6904-4f61-816c-1b72448e0881",
   "metadata": {},
   "outputs": [
    {
     "data": {
      "text/html": [
       "<div>\n",
       "<style scoped>\n",
       "    .dataframe tbody tr th:only-of-type {\n",
       "        vertical-align: middle;\n",
       "    }\n",
       "\n",
       "    .dataframe tbody tr th {\n",
       "        vertical-align: top;\n",
       "    }\n",
       "\n",
       "    .dataframe thead th {\n",
       "        text-align: right;\n",
       "    }\n",
       "</style>\n",
       "<table border=\"1\" class=\"dataframe\">\n",
       "  <thead>\n",
       "    <tr style=\"text-align: right;\">\n",
       "      <th></th>\n",
       "      <th>year</th>\n",
       "      <th>atp ranking</th>\n",
       "      <th>time</th>\n",
       "      <th>player1 aces</th>\n",
       "      <th>player1 double faults</th>\n",
       "      <th>player1 1st serves in</th>\n",
       "      <th>player1 1st serves total</th>\n",
       "      <th>player1 1st serve points won</th>\n",
       "      <th>player1 1st serve points total</th>\n",
       "      <th>player1 2nd serve points won</th>\n",
       "      <th>...</th>\n",
       "      <th>player2 2nd serve return points total</th>\n",
       "      <th>player2 break points converted won</th>\n",
       "      <th>player2 break points converted total</th>\n",
       "      <th>player2 return games played</th>\n",
       "      <th>player2 total service points won</th>\n",
       "      <th>player2 total service points total</th>\n",
       "      <th>player2 total return points won</th>\n",
       "      <th>player2 total return points total</th>\n",
       "      <th>player2 total points won</th>\n",
       "      <th>player2 total points total</th>\n",
       "    </tr>\n",
       "  </thead>\n",
       "  <tbody>\n",
       "    <tr>\n",
       "      <th>count</th>\n",
       "      <td>1179.000000</td>\n",
       "      <td>1177.000000</td>\n",
       "      <td>1179.000000</td>\n",
       "      <td>1027.000000</td>\n",
       "      <td>1027.000000</td>\n",
       "      <td>1027.000000</td>\n",
       "      <td>1027.000000</td>\n",
       "      <td>1027.000000</td>\n",
       "      <td>1027.000000</td>\n",
       "      <td>1027.000000</td>\n",
       "      <td>...</td>\n",
       "      <td>1027.000000</td>\n",
       "      <td>1027.000000</td>\n",
       "      <td>1027.000000</td>\n",
       "      <td>1027.000000</td>\n",
       "      <td>1027.000000</td>\n",
       "      <td>1027.000000</td>\n",
       "      <td>1027.000000</td>\n",
       "      <td>1027.000000</td>\n",
       "      <td>1027.000000</td>\n",
       "      <td>1027.000000</td>\n",
       "    </tr>\n",
       "    <tr>\n",
       "      <th>mean</th>\n",
       "      <td>2005.822731</td>\n",
       "      <td>15.402719</td>\n",
       "      <td>88.014419</td>\n",
       "      <td>7.658228</td>\n",
       "      <td>1.972736</td>\n",
       "      <td>48.074976</td>\n",
       "      <td>78.050633</td>\n",
       "      <td>36.891918</td>\n",
       "      <td>48.074976</td>\n",
       "      <td>16.935735</td>\n",
       "      <td>...</td>\n",
       "      <td>29.975657</td>\n",
       "      <td>1.515093</td>\n",
       "      <td>4.582278</td>\n",
       "      <td>12.798442</td>\n",
       "      <td>49.671860</td>\n",
       "      <td>82.675755</td>\n",
       "      <td>24.245375</td>\n",
       "      <td>78.050633</td>\n",
       "      <td>73.917235</td>\n",
       "      <td>160.726388</td>\n",
       "    </tr>\n",
       "    <tr>\n",
       "      <th>std</th>\n",
       "      <td>3.893527</td>\n",
       "      <td>61.331354</td>\n",
       "      <td>50.208925</td>\n",
       "      <td>4.791261</td>\n",
       "      <td>1.927344</td>\n",
       "      <td>17.828652</td>\n",
       "      <td>28.282779</td>\n",
       "      <td>13.340020</td>\n",
       "      <td>17.828652</td>\n",
       "      <td>6.512229</td>\n",
       "      <td>...</td>\n",
       "      <td>12.366416</td>\n",
       "      <td>1.666818</td>\n",
       "      <td>4.072658</td>\n",
       "      <td>4.167927</td>\n",
       "      <td>20.230553</td>\n",
       "      <td>29.701783</td>\n",
       "      <td>12.214704</td>\n",
       "      <td>28.282779</td>\n",
       "      <td>30.274990</td>\n",
       "      <td>56.441072</td>\n",
       "    </tr>\n",
       "    <tr>\n",
       "      <th>min</th>\n",
       "      <td>1998.000000</td>\n",
       "      <td>1.000000</td>\n",
       "      <td>0.000000</td>\n",
       "      <td>0.000000</td>\n",
       "      <td>0.000000</td>\n",
       "      <td>3.000000</td>\n",
       "      <td>5.000000</td>\n",
       "      <td>2.000000</td>\n",
       "      <td>3.000000</td>\n",
       "      <td>2.000000</td>\n",
       "      <td>...</td>\n",
       "      <td>2.000000</td>\n",
       "      <td>0.000000</td>\n",
       "      <td>0.000000</td>\n",
       "      <td>1.000000</td>\n",
       "      <td>1.000000</td>\n",
       "      <td>9.000000</td>\n",
       "      <td>1.000000</td>\n",
       "      <td>5.000000</td>\n",
       "      <td>2.000000</td>\n",
       "      <td>14.000000</td>\n",
       "    </tr>\n",
       "    <tr>\n",
       "      <th>25%</th>\n",
       "      <td>2003.000000</td>\n",
       "      <td>1.000000</td>\n",
       "      <td>63.000000</td>\n",
       "      <td>4.000000</td>\n",
       "      <td>1.000000</td>\n",
       "      <td>35.500000</td>\n",
       "      <td>57.000000</td>\n",
       "      <td>27.000000</td>\n",
       "      <td>35.500000</td>\n",
       "      <td>12.000000</td>\n",
       "      <td>...</td>\n",
       "      <td>21.000000</td>\n",
       "      <td>0.000000</td>\n",
       "      <td>1.000000</td>\n",
       "      <td>10.000000</td>\n",
       "      <td>35.000000</td>\n",
       "      <td>61.000000</td>\n",
       "      <td>15.000000</td>\n",
       "      <td>57.000000</td>\n",
       "      <td>51.000000</td>\n",
       "      <td>118.000000</td>\n",
       "    </tr>\n",
       "    <tr>\n",
       "      <th>50%</th>\n",
       "      <td>2006.000000</td>\n",
       "      <td>2.000000</td>\n",
       "      <td>86.000000</td>\n",
       "      <td>7.000000</td>\n",
       "      <td>1.000000</td>\n",
       "      <td>45.000000</td>\n",
       "      <td>73.000000</td>\n",
       "      <td>35.000000</td>\n",
       "      <td>45.000000</td>\n",
       "      <td>16.000000</td>\n",
       "      <td>...</td>\n",
       "      <td>27.000000</td>\n",
       "      <td>1.000000</td>\n",
       "      <td>4.000000</td>\n",
       "      <td>12.000000</td>\n",
       "      <td>46.000000</td>\n",
       "      <td>78.000000</td>\n",
       "      <td>22.000000</td>\n",
       "      <td>73.000000</td>\n",
       "      <td>68.000000</td>\n",
       "      <td>150.000000</td>\n",
       "    </tr>\n",
       "    <tr>\n",
       "      <th>75%</th>\n",
       "      <td>2009.000000</td>\n",
       "      <td>6.000000</td>\n",
       "      <td>116.000000</td>\n",
       "      <td>10.000000</td>\n",
       "      <td>3.000000</td>\n",
       "      <td>57.000000</td>\n",
       "      <td>93.000000</td>\n",
       "      <td>44.000000</td>\n",
       "      <td>57.000000</td>\n",
       "      <td>21.000000</td>\n",
       "      <td>...</td>\n",
       "      <td>37.000000</td>\n",
       "      <td>2.000000</td>\n",
       "      <td>7.000000</td>\n",
       "      <td>15.000000</td>\n",
       "      <td>61.500000</td>\n",
       "      <td>99.000000</td>\n",
       "      <td>31.000000</td>\n",
       "      <td>93.000000</td>\n",
       "      <td>92.000000</td>\n",
       "      <td>191.500000</td>\n",
       "    </tr>\n",
       "    <tr>\n",
       "      <th>max</th>\n",
       "      <td>2012.000000</td>\n",
       "      <td>878.000000</td>\n",
       "      <td>305.000000</td>\n",
       "      <td>50.000000</td>\n",
       "      <td>12.000000</td>\n",
       "      <td>127.000000</td>\n",
       "      <td>197.000000</td>\n",
       "      <td>113.000000</td>\n",
       "      <td>127.000000</td>\n",
       "      <td>48.000000</td>\n",
       "      <td>...</td>\n",
       "      <td>88.000000</td>\n",
       "      <td>11.000000</td>\n",
       "      <td>26.000000</td>\n",
       "      <td>37.000000</td>\n",
       "      <td>171.000000</td>\n",
       "      <td>239.000000</td>\n",
       "      <td>86.000000</td>\n",
       "      <td>197.000000</td>\n",
       "      <td>213.000000</td>\n",
       "      <td>436.000000</td>\n",
       "    </tr>\n",
       "  </tbody>\n",
       "</table>\n",
       "<p>8 rows × 51 columns</p>\n",
       "</div>"
      ],
      "text/plain": [
       "              year  atp ranking         time  player1 aces  \\\n",
       "count  1179.000000  1177.000000  1179.000000   1027.000000   \n",
       "mean   2005.822731    15.402719    88.014419      7.658228   \n",
       "std       3.893527    61.331354    50.208925      4.791261   \n",
       "min    1998.000000     1.000000     0.000000      0.000000   \n",
       "25%    2003.000000     1.000000    63.000000      4.000000   \n",
       "50%    2006.000000     2.000000    86.000000      7.000000   \n",
       "75%    2009.000000     6.000000   116.000000     10.000000   \n",
       "max    2012.000000   878.000000   305.000000     50.000000   \n",
       "\n",
       "       player1 double faults  player1 1st serves in  player1 1st serves total  \\\n",
       "count            1027.000000            1027.000000               1027.000000   \n",
       "mean                1.972736              48.074976                 78.050633   \n",
       "std                 1.927344              17.828652                 28.282779   \n",
       "min                 0.000000               3.000000                  5.000000   \n",
       "25%                 1.000000              35.500000                 57.000000   \n",
       "50%                 1.000000              45.000000                 73.000000   \n",
       "75%                 3.000000              57.000000                 93.000000   \n",
       "max                12.000000             127.000000                197.000000   \n",
       "\n",
       "       player1 1st serve points won  player1 1st serve points total  \\\n",
       "count                   1027.000000                     1027.000000   \n",
       "mean                      36.891918                       48.074976   \n",
       "std                       13.340020                       17.828652   \n",
       "min                        2.000000                        3.000000   \n",
       "25%                       27.000000                       35.500000   \n",
       "50%                       35.000000                       45.000000   \n",
       "75%                       44.000000                       57.000000   \n",
       "max                      113.000000                      127.000000   \n",
       "\n",
       "       player1 2nd serve points won  ...  \\\n",
       "count                   1027.000000  ...   \n",
       "mean                      16.935735  ...   \n",
       "std                        6.512229  ...   \n",
       "min                        2.000000  ...   \n",
       "25%                       12.000000  ...   \n",
       "50%                       16.000000  ...   \n",
       "75%                       21.000000  ...   \n",
       "max                       48.000000  ...   \n",
       "\n",
       "       player2 2nd serve return points total  \\\n",
       "count                            1027.000000   \n",
       "mean                               29.975657   \n",
       "std                                12.366416   \n",
       "min                                 2.000000   \n",
       "25%                                21.000000   \n",
       "50%                                27.000000   \n",
       "75%                                37.000000   \n",
       "max                                88.000000   \n",
       "\n",
       "       player2 break points converted won  \\\n",
       "count                         1027.000000   \n",
       "mean                             1.515093   \n",
       "std                              1.666818   \n",
       "min                              0.000000   \n",
       "25%                              0.000000   \n",
       "50%                              1.000000   \n",
       "75%                              2.000000   \n",
       "max                             11.000000   \n",
       "\n",
       "       player2 break points converted total  player2 return games played  \\\n",
       "count                           1027.000000                  1027.000000   \n",
       "mean                               4.582278                    12.798442   \n",
       "std                                4.072658                     4.167927   \n",
       "min                                0.000000                     1.000000   \n",
       "25%                                1.000000                    10.000000   \n",
       "50%                                4.000000                    12.000000   \n",
       "75%                                7.000000                    15.000000   \n",
       "max                               26.000000                    37.000000   \n",
       "\n",
       "       player2 total service points won  player2 total service points total  \\\n",
       "count                       1027.000000                         1027.000000   \n",
       "mean                          49.671860                           82.675755   \n",
       "std                           20.230553                           29.701783   \n",
       "min                            1.000000                            9.000000   \n",
       "25%                           35.000000                           61.000000   \n",
       "50%                           46.000000                           78.000000   \n",
       "75%                           61.500000                           99.000000   \n",
       "max                          171.000000                          239.000000   \n",
       "\n",
       "       player2 total return points won  player2 total return points total  \\\n",
       "count                      1027.000000                        1027.000000   \n",
       "mean                         24.245375                          78.050633   \n",
       "std                          12.214704                          28.282779   \n",
       "min                           1.000000                           5.000000   \n",
       "25%                          15.000000                          57.000000   \n",
       "50%                          22.000000                          73.000000   \n",
       "75%                          31.000000                          93.000000   \n",
       "max                          86.000000                         197.000000   \n",
       "\n",
       "       player2 total points won  player2 total points total  \n",
       "count               1027.000000                 1027.000000  \n",
       "mean                  73.917235                  160.726388  \n",
       "std                   30.274990                   56.441072  \n",
       "min                    2.000000                   14.000000  \n",
       "25%                   51.000000                  118.000000  \n",
       "50%                   68.000000                  150.000000  \n",
       "75%                   92.000000                  191.500000  \n",
       "max                  213.000000                  436.000000  \n",
       "\n",
       "[8 rows x 51 columns]"
      ]
     },
     "execution_count": 18,
     "metadata": {},
     "output_type": "execute_result"
    }
   ],
   "source": [
    "f.describe()  #Q1"
   ]
  },
  {
   "cell_type": "code",
   "execution_count": 31,
   "id": "561b0480-6ec2-4973-af89-8e271562fae9",
   "metadata": {},
   "outputs": [],
   "source": [
    "gr_fed = f.groupby(\"winner\")"
   ]
  },
  {
   "cell_type": "code",
   "execution_count": 33,
   "id": "30d5d84b-f4df-46c3-b6af-a0dd2e0cc9c7",
   "metadata": {},
   "outputs": [
    {
     "data": {
      "text/plain": [
       "<pandas.core.groupby.generic.SeriesGroupBy object at 0x00000210C7753EC0>"
      ]
     },
     "execution_count": 33,
     "metadata": {},
     "output_type": "execute_result"
    }
   ],
   "source": [
    "gr_fed[\"player1 name\"]"
   ]
  },
  {
   "cell_type": "raw",
   "id": "70fdf3a1-7f62-4747-b6b2-fc6bfb2052ae",
   "metadata": {},
   "source": [
    "gr_fed[\"player1 name\"].sum()"
   ]
  },
  {
   "cell_type": "code",
   "execution_count": 19,
   "id": "a536fc51-34af-4f1e-ab3d-75dfcc908e67",
   "metadata": {},
   "outputs": [
    {
     "data": {
      "text/plain": [
       "Index(['year', 'tournament', 'start date', 'type', 'surface', 'draw',\n",
       "       'atp points', 'atp ranking', 'tournament prize money', 'round',\n",
       "       'opponent', 'ranking', 'score', 'stats link', 'tournament.1',\n",
       "       'tournament round', 'time', 'winner', 'player1 name',\n",
       "       'player1 nationality', 'player1 aces', 'player1 double faults',\n",
       "       'player1 1st serves in', 'player1 1st serves total',\n",
       "       'player1 1st serve points won', 'player1 1st serve points total',\n",
       "       'player1 2nd serve points won', 'player1 2nd serve points total',\n",
       "       'player1 break points won', 'player1 break points total',\n",
       "       'player1 service games played', 'player1 1st serve return points won',\n",
       "       'player1 1st serve return points total',\n",
       "       'player1 2nd serve return points won',\n",
       "       'player1 2nd serve return points total',\n",
       "       'player1 break points converted won',\n",
       "       'player1 break points converted total', 'player1 return games played',\n",
       "       'player1 total service points won',\n",
       "       'player1 total service points total', 'player1 total return points won',\n",
       "       'player1 total return points total', 'player1 total points won',\n",
       "       'player1 total points total', 'player2 name', 'player2 nationality',\n",
       "       'player2 aces', 'player2 double faults', 'player2 1st serves in',\n",
       "       'player2 1st serves total', 'player2 1st serve points won',\n",
       "       'player2 1st serve points total', 'player2 2nd serve points won',\n",
       "       'player2 2nd serve points total', 'player2 break points won',\n",
       "       'player2 break points total', 'player2 service games played',\n",
       "       'player2 1st serve return points won',\n",
       "       'player2 1st serve return points total',\n",
       "       'player2 2nd serve return points won',\n",
       "       'player2 2nd serve return points total',\n",
       "       'player2 break points converted won',\n",
       "       'player2 break points converted total', 'player2 return games played',\n",
       "       'player2 total service points won',\n",
       "       'player2 total service points total', 'player2 total return points won',\n",
       "       'player2 total return points total', 'player2 total points won',\n",
       "       'player2 total points total'],\n",
       "      dtype='object')"
      ]
     },
     "execution_count": 19,
     "metadata": {},
     "output_type": "execute_result"
    }
   ],
   "source": [
    "f.columns"
   ]
  },
  {
   "cell_type": "code",
   "execution_count": 32,
   "id": "048a9267-b37b-43ab-97b4-6e4dc22f8f13",
   "metadata": {},
   "outputs": [
    {
     "data": {
      "text/plain": [
       "0       103.0\n",
       "1       106.0\n",
       "2       148.0\n",
       "3       130.0\n",
       "4         NaN\n",
       "        ...  \n",
       "1174    276.0\n",
       "1175     86.0\n",
       "1176     99.0\n",
       "1177    173.0\n",
       "1178      NaN\n",
       "Name: player1 total points total, Length: 1179, dtype: float64"
      ]
     },
     "execution_count": 32,
     "metadata": {},
     "output_type": "execute_result"
    }
   ],
   "source": [
    "f[\"player1 total points total\"]"
   ]
  },
  {
   "cell_type": "code",
   "execution_count": 33,
   "id": "f1d0b798-fcd7-446f-875d-dcdd3d6870db",
   "metadata": {},
   "outputs": [
    {
     "data": {
      "text/plain": [
       "np.float64(165066.0)"
      ]
     },
     "execution_count": 33,
     "metadata": {},
     "output_type": "execute_result"
    }
   ],
   "source": [
    "f[\"player1 total points total\"].sum()"
   ]
  },
  {
   "cell_type": "code",
   "execution_count": 13,
   "id": "b5f70b2c-8946-4a21-9015-d66bd7efad2d",
   "metadata": {},
   "outputs": [
    {
     "data": {
      "text/plain": [
       "0       2.0\n",
       "1       0.0\n",
       "2       3.0\n",
       "3       6.0\n",
       "4       NaN\n",
       "       ... \n",
       "1174    5.0\n",
       "1175    0.0\n",
       "1176    0.0\n",
       "1177    2.0\n",
       "1178    NaN\n",
       "Name: player1 double faults, Length: 1179, dtype: float64"
      ]
     },
     "execution_count": 13,
     "metadata": {},
     "output_type": "execute_result"
    }
   ],
   "source": [
    "f[\"player1 double faults\"]"
   ]
  },
  {
   "cell_type": "code",
   "execution_count": 9,
   "id": "5303ada6-eec8-4e41-92b7-6c76f168dc65",
   "metadata": {},
   "outputs": [],
   "source": [
    "win_percentage = (f[\"winner\"] == \"Roger Federer\").mean() * 100 #Q2"
   ]
  },
  {
   "cell_type": "code",
   "execution_count": 10,
   "id": "e6803b54-62c7-4b4c-9d45-6a87bed9ac0c",
   "metadata": {},
   "outputs": [
    {
     "data": {
      "text/plain": [
       "np.float64(82.44274809160305)"
      ]
     },
     "execution_count": 10,
     "metadata": {},
     "output_type": "execute_result"
    }
   ],
   "source": [
    "win_percentage\n"
   ]
  },
  {
   "cell_type": "code",
   "execution_count": 11,
   "id": "2f4b952e-9458-47a7-b4e8-caa59ccf6aeb",
   "metadata": {},
   "outputs": [
    {
     "name": "stdout",
     "output_type": "stream",
     "text": [
      "82.44274809160305 of matches won by feder\n"
     ]
    }
   ],
   "source": [
    "print(f\"{win_percentage} of matches won by feder\")"
   ]
  },
  {
   "cell_type": "code",
   "execution_count": 14,
   "id": "c28d0129-93e3-4e51-bdc5-1dc835007523",
   "metadata": {},
   "outputs": [
    {
     "data": {
      "text/plain": [
       "np.float64(2026.0)"
      ]
     },
     "execution_count": 14,
     "metadata": {},
     "output_type": "execute_result"
    }
   ],
   "source": [
    "f[\"player1 double faults\"].sum()"
   ]
  },
  {
   "cell_type": "code",
   "execution_count": 75,
   "id": "7ed753d2-1f04-49e3-af28-5551098eadd7",
   "metadata": {},
   "outputs": [],
   "source": [
    "f[\"proportion\"] = f[\"player1 double faults\"]/ f[\"player1 total points won\"]  #Q3"
   ]
  },
  {
   "cell_type": "code",
   "execution_count": 76,
   "id": "8704782b-b32c-49f8-ba75-4095e7dd7bef",
   "metadata": {},
   "outputs": [
    {
     "data": {
      "text/plain": [
       "0       0.048780\n",
       "1       0.000000\n",
       "2       0.037975\n",
       "3       0.100000\n",
       "4            NaN\n",
       "          ...   \n",
       "1174    0.038462\n",
       "1175    0.000000\n",
       "1176    0.000000\n",
       "1177    0.021739\n",
       "1178         NaN\n",
       "Name: proportion, Length: 1179, dtype: float64"
      ]
     },
     "execution_count": 76,
     "metadata": {},
     "output_type": "execute_result"
    }
   ],
   "source": [
    "f[\"proportion\"]"
   ]
  },
  {
   "cell_type": "code",
   "execution_count": 21,
   "id": "2fffbcf9-33a3-43a2-9dc1-77f645a42208",
   "metadata": {},
   "outputs": [],
   "source": [
    "grp_court = f.groupby(\"surface\")"
   ]
  },
  {
   "cell_type": "code",
   "execution_count": 23,
   "id": "82b88eae-fffb-40d8-b727-8d24372324f8",
   "metadata": {},
   "outputs": [
    {
     "data": {
      "text/plain": [
       "<pandas.core.groupby.generic.DataFrameGroupBy object at 0x000002354B2C32C0>"
      ]
     },
     "execution_count": 23,
     "metadata": {},
     "output_type": "execute_result"
    }
   ],
   "source": [
    "grp_court"
   ]
  },
  {
   "cell_type": "code",
   "execution_count": 22,
   "id": "da3b3a2c-c9fe-470a-a8fe-690e93c9a99e",
   "metadata": {},
   "outputs": [
    {
     "data": {
      "text/plain": [
       "<pandas.core.groupby.generic.SeriesGroupBy object at 0x000002354B083B00>"
      ]
     },
     "execution_count": 22,
     "metadata": {},
     "output_type": "execute_result"
    }
   ],
   "source": [
    "grp_court[\"winner\"]"
   ]
  },
  {
   "cell_type": "code",
   "execution_count": 40,
   "id": "0a3ef55e-5b84-4004-8be9-cc3caafdbb8b",
   "metadata": {},
   "outputs": [
    {
     "data": {
      "text/plain": [
       "0       0.048780\n",
       "1       0.000000\n",
       "2       0.037975\n",
       "3       0.100000\n",
       "4            NaN\n",
       "          ...   \n",
       "1174    0.038462\n",
       "1175    0.000000\n",
       "1176    0.000000\n",
       "1177    0.021739\n",
       "1178         NaN\n",
       "Name: proportion, Length: 1179, dtype: float64"
      ]
     },
     "execution_count": 40,
     "metadata": {},
     "output_type": "execute_result"
    }
   ],
   "source": [
    "f[\"proportion\"]"
   ]
  },
  {
   "cell_type": "code",
   "execution_count": 32,
   "id": "dd7b82e7-e13e-49db-a7e3-e9cb667b4346",
   "metadata": {},
   "outputs": [],
   "source": [
    "f_df = pd.DataFrame(f)"
   ]
  },
  {
   "cell_type": "code",
   "execution_count": 25,
   "id": "87dfd628-3f0b-4cf0-bc3a-4d789851df89",
   "metadata": {},
   "outputs": [],
   "source": [
    "avg_win_surface = (f[\"winner\"] == \"Roger Federer\").groupby(f[\"surface\"]).mean()            #Q4"
   ]
  },
  {
   "cell_type": "code",
   "execution_count": 26,
   "id": "ad9d29bb-277b-4b8f-855e-e069fc95058c",
   "metadata": {},
   "outputs": [
    {
     "data": {
      "text/plain": [
       "surface\n",
       "Indoor: Carpet    0.736842\n",
       "Indoor: Clay      0.833333\n",
       "Indoor: Hard      0.836283\n",
       "Outdoor: Clay     0.779116\n",
       "Outdoor: Grass    0.871429\n",
       "Outdoor: Hard     0.842324\n",
       "Name: winner, dtype: float64"
      ]
     },
     "execution_count": 26,
     "metadata": {},
     "output_type": "execute_result"
    }
   ],
   "source": [
    "avg_win_surface"
   ]
  },
  {
   "cell_type": "code",
   "execution_count": 28,
   "id": "5ba0e633-bbd6-4674-a535-70772b70a20a",
   "metadata": {},
   "outputs": [
    {
     "name": "stdout",
     "output_type": "stream",
     "text": [
      "\n",
      "3. Average Win per Surface:\n",
      "surface\n",
      "Indoor: Carpet   NaN\n",
      "Indoor: Clay     NaN\n",
      "Indoor: Hard     NaN\n",
      "Outdoor: Clay    NaN\n",
      "Outdoor: Grass   NaN\n",
      "Outdoor: Hard    NaN\n",
      "dtype: float64\n"
     ]
    }
   ],
   "source": [
    "surface_win_rate = f_df[f_df['winner'] == 'Federer'].groupby('surface').size() / f_df.groupby('surface').size()\n",
    "print(\"\\n3. Average Win per Surface:\")\n",
    "print(surface_win_rate)\n"
   ]
  },
  {
   "cell_type": "code",
   "execution_count": 35,
   "id": "ac3b0199-30fb-483a-a9b5-e13667eff8af",
   "metadata": {},
   "outputs": [],
   "source": [
    "f_df[\"start date\"] = pd.to_datetime(f[\"start date\"], format = \"%d.%m.%Y\")       #q5"
   ]
  },
  {
   "cell_type": "code",
   "execution_count": 38,
   "id": "ec983d19-4cbd-4d16-918f-41c7db30b4f0",
   "metadata": {},
   "outputs": [],
   "source": [
    "f[\"year\"] = f_df[\"start date\"].dt.year"
   ]
  },
  {
   "cell_type": "code",
   "execution_count": 52,
   "id": "3487aee6-5472-4efd-aa35-2f741cb7461d",
   "metadata": {},
   "outputs": [
    {
     "data": {
      "text/plain": [
       "0       1998\n",
       "1       1998\n",
       "2       1998\n",
       "3       1998\n",
       "4       1998\n",
       "        ... \n",
       "1174    2012\n",
       "1175    2012\n",
       "1176    2012\n",
       "1177    2012\n",
       "1178    2012\n",
       "Name: year, Length: 1179, dtype: int32"
      ]
     },
     "execution_count": 52,
     "metadata": {},
     "output_type": "execute_result"
    }
   ],
   "source": [
    "f[\"year\"]"
   ]
  },
  {
   "cell_type": "code",
   "execution_count": 55,
   "id": "4481b495-38da-436b-8e65-832bb064cd22",
   "metadata": {},
   "outputs": [],
   "source": [
    "trend = f.groupby(\"year\")              "
   ]
  },
  {
   "cell_type": "code",
   "execution_count": 56,
   "id": "d6d759e7-1f8e-4068-9558-48d07c200844",
   "metadata": {},
   "outputs": [
    {
     "data": {
      "text/plain": [
       "<pandas.core.groupby.generic.SeriesGroupBy object at 0x000002354E56F7D0>"
      ]
     },
     "execution_count": 56,
     "metadata": {},
     "output_type": "execute_result"
    }
   ],
   "source": [
    "trend[\"player1 double faults\"]"
   ]
  },
  {
   "cell_type": "code",
   "execution_count": 57,
   "id": "7374bf6b-54b1-4f10-8901-813ab0618892",
   "metadata": {},
   "outputs": [
    {
     "data": {
      "text/plain": [
       "year\n",
       "1998    2.800000\n",
       "1999    3.680000\n",
       "2000    3.561404\n",
       "2001    3.075758\n",
       "2002    2.628205\n",
       "2003    3.000000\n",
       "2004    2.108108\n",
       "2005    1.809524\n",
       "2006    1.242105\n",
       "2007    1.146667\n",
       "2008    0.962500\n",
       "2009    1.887324\n",
       "2010    1.410256\n",
       "2011    1.342466\n",
       "2012    1.500000\n",
       "Name: player1 double faults, dtype: float64"
      ]
     },
     "execution_count": 57,
     "metadata": {},
     "output_type": "execute_result"
    }
   ],
   "source": [
    "trend[\"player1 double faults\"].mean()"
   ]
  },
  {
   "cell_type": "code",
   "execution_count": 63,
   "id": "2fe4f3e8-0d2d-40b1-8fad-bdaae8194ace",
   "metadata": {},
   "outputs": [],
   "source": [
    "avg_double_faults = trend[\"player1 double faults\"].mean()"
   ]
  },
  {
   "cell_type": "code",
   "execution_count": 64,
   "id": "78fbde01-a11b-4946-87f3-7e3c91015b89",
   "metadata": {},
   "outputs": [
    {
     "data": {
      "text/plain": [
       "year\n",
       "1998    2.800000\n",
       "1999    3.680000\n",
       "2000    3.561404\n",
       "2001    3.075758\n",
       "2002    2.628205\n",
       "2003    3.000000\n",
       "2004    2.108108\n",
       "2005    1.809524\n",
       "2006    1.242105\n",
       "2007    1.146667\n",
       "2008    0.962500\n",
       "2009    1.887324\n",
       "2010    1.410256\n",
       "2011    1.342466\n",
       "2012    1.500000\n",
       "Name: player1 double faults, dtype: float64"
      ]
     },
     "execution_count": 64,
     "metadata": {},
     "output_type": "execute_result"
    }
   ],
   "source": [
    "avg_double_faults"
   ]
  },
  {
   "cell_type": "code",
   "execution_count": 61,
   "id": "04eb2bb4-eba8-4933-9cdc-5707436b4737",
   "metadata": {},
   "outputs": [],
   "source": [
    "#f[\"trend\"] = f[\"player1 double faults\"].groupby(f[\"year\"]).mean()"
   ]
  },
  {
   "cell_type": "code",
   "execution_count": 73,
   "id": "cc719071-d8df-4254-8517-03d188438850",
   "metadata": {},
   "outputs": [
    {
     "data": {
      "image/png": "[encoded data removed]",
      "text/plain": [
       "<Figure size 640x480 with 1 Axes>"
      ]
     },
     "metadata": {},
     "output_type": "display_data"
    }
   ],
   "source": [
    "plt.plot(avg_double_faults, \"b-\")\n",
    "plt.title(\"Federer Average Double Faults per year\")\n",
    "plt.xlabel(\"Year\")\n",
    "plt.ylabel(\"Avg Double Faults\")\n",
    "plt.tight_layout()\n",
    "plt.show()"
   ]
  },
  {
   "cell_type": "code",
   "execution_count": 80,
   "id": "deec01fb-1847-418d-a941-7c37438554ad",
   "metadata": {},
   "outputs": [
    {
     "ename": "AttributeError",
     "evalue": "'Series' object has no attribute 'f'",
     "output_type": "error",
     "traceback": [
      "\u001b[31m---------------------------------------------------------------------------\u001b[39m",
      "\u001b[31mAttributeError\u001b[39m                            Traceback (most recent call last)",
      "\u001b[32m~\\AppData\\Local\\Temp\\ipykernel_3884\\2666556276.py\u001b[39m in \u001b[36m?\u001b[39m\u001b[34m()\u001b[39m\n\u001b[32m----> \u001b[39m\u001b[32m1\u001b[39m f[\u001b[33m\"proportion\"\u001b[39m].f[\u001b[33m\"start date\"\u001b[39m]\n",
      "\u001b[32m~\\AppData\\Local\\Programs\\Python\\Python312\\Lib\\site-packages\\pandas\\core\\generic.py\u001b[39m in \u001b[36m?\u001b[39m\u001b[34m(self, name)\u001b[39m\n\u001b[32m   6295\u001b[39m             \u001b[38;5;28;01mand\u001b[39;00m name \u001b[38;5;28;01mnot\u001b[39;00m \u001b[38;5;28;01min\u001b[39;00m self._accessors\n\u001b[32m   6296\u001b[39m             \u001b[38;5;28;01mand\u001b[39;00m self._info_axis._can_hold_identifiers_and_holds_name(name)\n\u001b[32m   6297\u001b[39m         ):\n\u001b[32m   6298\u001b[39m             \u001b[38;5;28;01mreturn\u001b[39;00m self[name]\n\u001b[32m-> \u001b[39m\u001b[32m6299\u001b[39m         \u001b[38;5;28;01mreturn\u001b[39;00m object.__getattribute__(self, name)\n",
      "\u001b[31mAttributeError\u001b[39m: 'Series' object has no attribute 'f'"
     ]
    }
   ],
   "source": [
    "f[\"proportion\"]"
   ]
  },
  {
   "cell_type": "code",
   "execution_count": null,
   "id": "6c5a6234-ac8c-4ef5-be38-13121f005d11",
   "metadata": {},
   "outputs": [],
   "source": []
  }
 ],
 "metadata": {
  "kernelspec": {
   "display_name": "Python 3 (ipykernel)",
   "language": "python",
   "name": "python3"
  },
  "language_info": {
   "codemirror_mode": {
    "name": "ipython",
    "version": 3
   },
   "file_extension": ".py",
   "mimetype": "text/x-python",
   "name": "python",
   "nbconvert_exporter": "python",
   "pygments_lexer": "ipython3",
   "version": "3.12.8"
  }
 },
 "nbformat": 4,
 "nbformat_minor": 5
}
